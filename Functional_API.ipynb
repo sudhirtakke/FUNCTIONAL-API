{
  "nbformat": 4,
  "nbformat_minor": 0,
  "metadata": {
    "colab": {
      "name": "Functional API.ipynb",
      "provenance": [],
      "collapsed_sections": []
    },
    "hide_input": false,
    "kernelspec": {
      "name": "python3",
      "display_name": "Python 3"
    },
    "language_info": {
      "codemirror_mode": {
        "name": "ipython",
        "version": 3
      },
      "file_extension": ".py",
      "mimetype": "text/x-python",
      "name": "python",
      "nbconvert_exporter": "python",
      "pygments_lexer": "ipython3",
      "version": "3.7.4"
    },
    "toc": {
      "base_numbering": 1,
      "nav_menu": {},
      "number_sections": false,
      "sideBar": true,
      "skip_h1_title": true,
      "title_cell": "Table of Contents",
      "title_sidebar": "Contents",
      "toc_cell": false,
      "toc_position": {},
      "toc_section_display": true,
      "toc_window_display": false
    },
    "varInspector": {
      "cols": {
        "lenName": 16,
        "lenType": 16,
        "lenVar": 40
      },
      "kernels_config": {
        "python": {
          "delete_cmd_postfix": "",
          "delete_cmd_prefix": "del ",
          "library": "var_list.py",
          "varRefreshCmd": "print(var_dic_list())"
        },
        "r": {
          "delete_cmd_postfix": ") ",
          "delete_cmd_prefix": "rm(",
          "library": "var_list.r",
          "varRefreshCmd": "cat(var_dic_list()) "
        }
      },
      "types_to_exclude": [
        "module",
        "function",
        "builtin_function_or_method",
        "instance",
        "_Feature"
      ],
      "window_display": false
    },
    "accelerator": "GPU"
  },
  "cells": [
    {
      "cell_type": "markdown",
      "metadata": {
        "id": "DVyyt2Mg_nA5"
      },
      "source": [
        "### Building a Deep Learning model using Keras Functional API with below mentioned dimensions and parameters.\n",
        "\n",
        "- The model has **10** inputs, **3** hidden layers with **10**, **20**, and **10** neurons, and an output layer with **1** output. \n",
        "  \n",
        "\n",
        "- **Rectified linear** activation functions are used in each hidden layer and a **sigmoid** activation function is used in the output layer, for binary classification."
      ]
    },
    {
      "cell_type": "code",
      "metadata": {
        "id": "loC37xH-sO23"
      },
      "source": [
        "# Import tensorflow 2.x\n",
        "# This code block will only work in Google Colab.\n",
        "try:\n",
        "    # %tensorflow_version only exists in Colab.\n",
        "    %tensorflow_version 2.x\n",
        "except Exception:\n",
        "    pass"
      ],
      "execution_count": null,
      "outputs": []
    },
    {
      "cell_type": "code",
      "metadata": {
        "id": "fwChl806sArK"
      },
      "source": [
        "from tensorflow.keras.models import Model\n",
        "from tensorflow.keras.layers import Input\n",
        "from tensorflow.keras.layers import Dense\n",
        "from tensorflow.keras.utils import plot_model"
      ],
      "execution_count": null,
      "outputs": []
    },
    {
      "cell_type": "code",
      "metadata": {
        "id": "xDGbhR0isAoy"
      },
      "source": [
        "def build_model():\n",
        "    visible = Input(shape = (10,))\n",
        "    hidden1 = Dense(10, activation = 'relu')(visible)\n",
        "    hidden2 = Dense(20, activation = 'relu')(hidden1)\n",
        "    hidden3 = Dense(10, activation = 'relu')(hidden2)\n",
        "    output = Dense(1, activation = 'sigmoid')(hidden3)\n",
        "\n",
        "    model = Model(inputs = visible, outputs = output)\n",
        "\n",
        "    return model"
      ],
      "execution_count": null,
      "outputs": []
    },
    {
      "cell_type": "code",
      "metadata": {
        "id": "ys5t-PLFtKxh"
      },
      "source": [
        "model = build_model()"
      ],
      "execution_count": null,
      "outputs": []
    },
    {
      "cell_type": "code",
      "metadata": {
        "id": "3-L6rdYPtMqg",
        "colab": {
          "base_uri": "https://localhost:8080/"
        },
        "outputId": "3d83feac-f406-496f-cf9a-ae1b5038fc8e"
      },
      "source": [
        "model.summary()"
      ],
      "execution_count": null,
      "outputs": [
        {
          "output_type": "stream",
          "text": [
            "Model: \"model\"\n",
            "_________________________________________________________________\n",
            "Layer (type)                 Output Shape              Param #   \n",
            "=================================================================\n",
            "input_1 (InputLayer)         [(None, 10)]              0         \n",
            "_________________________________________________________________\n",
            "dense (Dense)                (None, 10)                110       \n",
            "_________________________________________________________________\n",
            "dense_1 (Dense)              (None, 20)                220       \n",
            "_________________________________________________________________\n",
            "dense_2 (Dense)              (None, 10)                210       \n",
            "_________________________________________________________________\n",
            "dense_3 (Dense)              (None, 1)                 11        \n",
            "=================================================================\n",
            "Total params: 551\n",
            "Trainable params: 551\n",
            "Non-trainable params: 0\n",
            "_________________________________________________________________\n"
          ],
          "name": "stdout"
        }
      ]
    },
    {
      "cell_type": "code",
      "metadata": {
        "id": "ao0XFuym7pXN",
        "colab": {
          "base_uri": "https://localhost:8080/",
          "height": 465
        },
        "outputId": "b37ecb3a-8ae5-40a1-ba02-4929afa34f1f"
      },
      "source": [
        "# Plot graph\n",
        "plot_model(model)"
      ],
      "execution_count": null,
      "outputs": [
        {
          "output_type": "execute_result",
          "data": {
            "image/png": "[encoded data removed]",
            "text/plain": [
              "<IPython.core.display.Image object>"
            ]
          },
          "metadata": {
            "tags": []
          },
          "execution_count": 9
        }
      ]
    },
    {
      "cell_type": "markdown",
      "metadata": {
        "id": "jfIvE5nXAz20"
      },
      "source": [
        "### Building a Deep Learning model using Keras Functional API with below mentioned dimensions and parameters.\n",
        "\n",
        "- The model receives **black and white 64×64** images as input.\n",
        "\n",
        "- It then has a sequence of two convolutional and max pooling layers (1C --> 1MP --> 1C --> 1MP) as feature extractors, having **32** and then **16** hidden units in the Convolutional layers respectively. Both convolutional layers use **relu** activation and a kernel size of **4**.\n",
        "\n",
        "- MaxPooling layers have a pool size of **2x2**.\n",
        "\n",
        "- It is followed by a **flatten** layer, and then a **fully connected** layer with **10** hidden units and **relu** activation to interpret the features and an output layer with a **sigmoid** activation for two-class predictions."
      ]
    },
    {
      "cell_type": "code",
      "metadata": {
        "id": "Dn-aU77svy8v"
      },
      "source": [
        "from tensorflow.keras.models import Model\n",
        "from tensorflow.keras.layers import Input\n",
        "from tensorflow.keras.layers import Dense, Flatten, Conv2D, MaxPooling2D\n",
        "from tensorflow.keras.utils import plot_model"
      ],
      "execution_count": null,
      "outputs": []
    },
    {
      "cell_type": "code",
      "metadata": {
        "id": "n5iDaPIfvy5q"
      },
      "source": [
        "def build_model():\n",
        "    # Build model here.\n",
        "    visible = Input(shape=(64, 64, 1))\n",
        "    conv1 = Conv2D(32, kernel_size = 4, activation = 'relu')(visible)\n",
        "    pool1 = MaxPooling2D(pool_size= (2, 2))(conv1)\n",
        "    conv2 = Conv2D(16, kernel_size = 4, activation = 'relu')(pool1)\n",
        "    pool2 = MaxPooling2D(pool_size= (2, 2))(conv2)\n",
        "    flat = Flatten()(pool2)\n",
        "    hidden1 = Dense(10, activation = 'relu')(flat)\n",
        "    output = Dense(1, activation= 'sigmoid')(hidden1)\n",
        "\n",
        "    model = Model(inputs = visible, outputs = output)\n",
        "\n",
        "    return model"
      ],
      "execution_count": null,
      "outputs": []
    },
    {
      "cell_type": "markdown",
      "metadata": {
        "id": "P5QXJ0oQQU84"
      },
      "source": [
        ""
      ]
    },
    {
      "cell_type": "code",
      "metadata": {
        "id": "_hjfsfuHv61H"
      },
      "source": [
        "model = build_model()"
      ],
      "execution_count": null,
      "outputs": []
    },
    {
      "cell_type": "code",
      "metadata": {
        "id": "UWVpuqy7v6yw",
        "colab": {
          "base_uri": "https://localhost:8080/"
        },
        "outputId": "78570be3-f7b1-471b-9653-cde5b0d58701"
      },
      "source": [
        "model.summary()"
      ],
      "execution_count": null,
      "outputs": [
        {
          "output_type": "stream",
          "text": [
            "Model: \"model_1\"\n",
            "_________________________________________________________________\n",
            "Layer (type)                 Output Shape              Param #   \n",
            "=================================================================\n",
            "input_2 (InputLayer)         [(None, 64, 64, 1)]       0         \n",
            "_________________________________________________________________\n",
            "conv2d (Conv2D)              (None, 61, 61, 32)        544       \n",
            "_________________________________________________________________\n",
            "max_pooling2d (MaxPooling2D) (None, 30, 30, 32)        0         \n",
            "_________________________________________________________________\n",
            "conv2d_1 (Conv2D)            (None, 27, 27, 16)        8208      \n",
            "_________________________________________________________________\n",
            "max_pooling2d_1 (MaxPooling2 (None, 13, 13, 16)        0         \n",
            "_________________________________________________________________\n",
            "flatten (Flatten)            (None, 2704)              0         \n",
            "_________________________________________________________________\n",
            "dense_4 (Dense)              (None, 10)                27050     \n",
            "_________________________________________________________________\n",
            "dense_5 (Dense)              (None, 1)                 11        \n",
            "=================================================================\n",
            "Total params: 35,813\n",
            "Trainable params: 35,813\n",
            "Non-trainable params: 0\n",
            "_________________________________________________________________\n"
          ],
          "name": "stdout"
        }
      ]
    },
    {
      "cell_type": "code",
      "metadata": {
        "id": "ode3dabg77mm",
        "colab": {
          "base_uri": "https://localhost:8080/",
          "height": 757
        },
        "outputId": "8e36f7f9-dde1-4bc7-fc30-0281738a065a"
      },
      "source": [
        "# Plot graph\n",
        "plot_model(model)"
      ],
      "execution_count": null,
      "outputs": [
        {
          "output_type": "execute_result",
          "data": {
            "image/png": "[encoded data removed]",
            "text/plain": [
              "<IPython.core.display.Image object>"
            ]
          },
          "metadata": {
            "tags": []
          },
          "execution_count": 14
        }
      ]
    },
    {
      "cell_type": "markdown",
      "metadata": {
        "id": "nl9wu0LABQhQ"
      },
      "source": [
        "### Building a Deep Learning model using Keras Functional API with below mentioned dimensions and parameters.\n",
        "\n",
        "- The model expects **100** time steps of **one** feature as input.\n",
        "\n",
        "- The model has a single **LSTM** hidden layer to extract features from the sequence that contains **10** hidden units.\n",
        "\n",
        "- It is followed by a **fully connected** layer to interpret the LSTM output having **10** hidden units and relu activation.\n",
        "\n",
        "- And is then followed by an output layer for making **binary** predictions."
      ]
    },
    {
      "cell_type": "code",
      "metadata": {
        "id": "oIoUGrDEwY0G"
      },
      "source": [
        "from tensorflow.keras.utils import plot_model\n",
        "from tensorflow.keras.models import Model\n",
        "from tensorflow.keras.layers import Input\n",
        "from tensorflow.keras.layers import Dense, LSTM"
      ],
      "execution_count": null,
      "outputs": []
    },
    {
      "cell_type": "code",
      "metadata": {
        "id": "LRW1ELqmwYxR"
      },
      "source": [
        "def build_model():\n",
        "    # Build model here.\n",
        "    visible = Input(shape = (100, 1))\n",
        "    lstm = LSTM(10, activation= 'relu')(visible)\n",
        "    fc = Dense(10, activation= 'relu')(lstm)\n",
        "    output = Dense(1, activation= 'sigmoid')(fc)\n",
        "\n",
        "    model = Model(inputs = visible, outputs = output)\n",
        "\n",
        "    return model"
      ],
      "execution_count": null,
      "outputs": []
    },
    {
      "cell_type": "code",
      "metadata": {
        "id": "66pmFJcFwdUO",
        "colab": {
          "base_uri": "https://localhost:8080/"
        },
        "outputId": "57f0d25a-f455-4bcd-e25b-4fad7d3edc17"
      },
      "source": [
        "model = build_model()"
      ],
      "execution_count": null,
      "outputs": [
        {
          "output_type": "stream",
          "text": [
            "WARNING:tensorflow:Layer lstm will not use cuDNN kernel since it doesn't meet the cuDNN kernel criteria. It will use generic GPU kernel as fallback when running on GPU\n"
          ],
          "name": "stdout"
        }
      ]
    },
    {
      "cell_type": "code",
      "metadata": {
        "id": "YbqFogg_wdRo",
        "colab": {
          "base_uri": "https://localhost:8080/"
        },
        "outputId": "a5356660-704b-43e9-87b8-477a257b50ae"
      },
      "source": [
        "model.summary()"
      ],
      "execution_count": null,
      "outputs": [
        {
          "output_type": "stream",
          "text": [
            "Model: \"model_2\"\n",
            "_________________________________________________________________\n",
            "Layer (type)                 Output Shape              Param #   \n",
            "=================================================================\n",
            "input_3 (InputLayer)         [(None, 100, 1)]          0         \n",
            "_________________________________________________________________\n",
            "lstm (LSTM)                  (None, 10)                480       \n",
            "_________________________________________________________________\n",
            "dense_6 (Dense)              (None, 10)                110       \n",
            "_________________________________________________________________\n",
            "dense_7 (Dense)              (None, 1)                 11        \n",
            "=================================================================\n",
            "Total params: 601\n",
            "Trainable params: 601\n",
            "Non-trainable params: 0\n",
            "_________________________________________________________________\n"
          ],
          "name": "stdout"
        }
      ]
    },
    {
      "cell_type": "code",
      "metadata": {
        "id": "DPpyqlzu8Kae",
        "colab": {
          "base_uri": "https://localhost:8080/",
          "height": 368
        },
        "outputId": "e454989d-8295-4b9a-9a09-71d744add8b3"
      },
      "source": [
        "# Plot graph\n",
        "plot_model(model, to_file='recurrent_neural_network.png')"
      ],
      "execution_count": null,
      "outputs": [
        {
          "output_type": "execute_result",
          "data": {
            "image/png": "[encoded data removed]",
            "text/plain": [
              "<IPython.core.display.Image object>"
            ]
          },
          "metadata": {
            "tags": []
          },
          "execution_count": 19
        }
      ]
    },
    {
      "cell_type": "markdown",
      "metadata": {
        "id": "QM5vthHWBsnZ"
      },
      "source": [
        "## Build a Recurrent Neural Network to classify Spam and Ham text messages using Kera Fucntional API"
      ]
    },
    {
      "cell_type": "code",
      "metadata": {
        "id": "eNerruqE2glG"
      },
      "source": [
        "import pandas as pd\n",
        "sms = pd.read_csv(\"https://raw.githubusercontent.com/insaid2018/DeepLearning/master/Data/sms_spam.csv\")"
      ],
      "execution_count": null,
      "outputs": []
    },
    {
      "cell_type": "code",
      "metadata": {
        "id": "LsP3wOcr2mW6",
        "colab": {
          "base_uri": "https://localhost:8080/",
          "height": 197
        },
        "outputId": "69df23a8-24ca-4240-b5d2-9bd5e1cdf406"
      },
      "source": [
        "sms.head()"
      ],
      "execution_count": null,
      "outputs": [
        {
          "output_type": "execute_result",
          "data": {
            "text/html": [
              "<div>\n",
              "<style scoped>\n",
              "    .dataframe tbody tr th:only-of-type {\n",
              "        vertical-align: middle;\n",
              "    }\n",
              "\n",
              "    .dataframe tbody tr th {\n",
              "        vertical-align: top;\n",
              "    }\n",
              "\n",
              "    .dataframe thead th {\n",
              "        text-align: right;\n",
              "    }\n",
              "</style>\n",
              "<table border=\"1\" class=\"dataframe\">\n",
              "  <thead>\n",
              "    <tr style=\"text-align: right;\">\n",
              "      <th></th>\n",
              "      <th>type</th>\n",
              "      <th>text</th>\n",
              "    </tr>\n",
              "  </thead>\n",
              "  <tbody>\n",
              "    <tr>\n",
              "      <th>0</th>\n",
              "      <td>ham</td>\n",
              "      <td>Hope you are having a good week. Just checking in</td>\n",
              "    </tr>\n",
              "    <tr>\n",
              "      <th>1</th>\n",
              "      <td>ham</td>\n",
              "      <td>K..give back my thanks.</td>\n",
              "    </tr>\n",
              "    <tr>\n",
              "      <th>2</th>\n",
              "      <td>ham</td>\n",
              "      <td>Am also doing in cbe only. But have to pay.</td>\n",
              "    </tr>\n",
              "    <tr>\n",
              "      <th>3</th>\n",
              "      <td>spam</td>\n",
              "      <td>complimentary 4 STAR Ibiza Holiday or £10,000 ...</td>\n",
              "    </tr>\n",
              "    <tr>\n",
              "      <th>4</th>\n",
              "      <td>spam</td>\n",
              "      <td>okmail: Dear Dave this is your final notice to...</td>\n",
              "    </tr>\n",
              "  </tbody>\n",
              "</table>\n",
              "</div>"
            ],
            "text/plain": [
              "   type                                               text\n",
              "0   ham  Hope you are having a good week. Just checking in\n",
              "1   ham                            K..give back my thanks.\n",
              "2   ham        Am also doing in cbe only. But have to pay.\n",
              "3  spam  complimentary 4 STAR Ibiza Holiday or £10,000 ...\n",
              "4  spam  okmail: Dear Dave this is your final notice to..."
            ]
          },
          "metadata": {
            "tags": []
          },
          "execution_count": 21
        }
      ]
    },
    {
      "cell_type": "markdown",
      "metadata": {
        "id": "bEpFzUFSEIBJ"
      },
      "source": [
        "### Store the messages in a list.\n",
        "\n",
        "- Convert the **'text'** column of the **sms** dataframe into a python list using the `list` function. "
      ]
    },
    {
      "cell_type": "code",
      "metadata": {
        "id": "CzO01coFxsI6"
      },
      "source": [
        "def make_msg_list():\n",
        "    texts = list(sms['text']) # Write code to convert text column of sms dataframe to a list.\n",
        "\n",
        "    return texts"
      ],
      "execution_count": null,
      "outputs": []
    },
    {
      "cell_type": "code",
      "metadata": {
        "id": "aoha74_oEnWb"
      },
      "source": [
        "texts = make_msg_list()"
      ],
      "execution_count": null,
      "outputs": []
    },
    {
      "cell_type": "markdown",
      "metadata": {
        "id": "yNq92zHBFCA0"
      },
      "source": [
        "### Store the type in a list with Spam as 1 and Ham as 0.\n",
        "\n",
        "- Use `pd.get_dummies` function on the **'type'** column of sms dataframe.\n",
        "\n",
        "- Select only the 'spam' column of the created dummies and wrap it in the `list` function."
      ]
    },
    {
      "cell_type": "code",
      "metadata": {
        "id": "YAcF-9qIy-l6"
      },
      "source": [
        "def make_type_list():\n",
        "    labels = list(pd.get_dummies(sms['type'])['spam'])# Write code to store the type in a list with spam as 1 and ham as 0.\n",
        "\n",
        "    return labels"
      ],
      "execution_count": null,
      "outputs": []
    },
    {
      "cell_type": "code",
      "metadata": {
        "id": "Ta4-y8H3E9BT"
      },
      "source": [
        "labels = make_type_list()"
      ],
      "execution_count": null,
      "outputs": []
    },
    {
      "cell_type": "markdown",
      "metadata": {
        "id": "fpm2fuMzFZQ6"
      },
      "source": [
        "### Tokenize the texts.\n",
        "\n",
        "- Create a **tokenizer** object of **Tokenizer** class having `num_words` equal to **max_words**.\n",
        "\n",
        "- Fit the **tokenizer** on **texts** using `fit_on_texts` method.\n",
        "\n",
        "- Create **sequences** using the `texts_to_sequences` method of **tokenizer** on **texts**."
      ]
    },
    {
      "cell_type": "code",
      "metadata": {
        "id": "MMpesFQw0ZFj"
      },
      "source": [
        "from tensorflow.keras.preprocessing.text import Tokenizer\n",
        "from tensorflow.keras.preprocessing.sequence import pad_sequences\n",
        "import numpy as np"
      ],
      "execution_count": null,
      "outputs": []
    },
    {
      "cell_type": "code",
      "metadata": {
        "id": "6x0clYKn0o0P"
      },
      "source": [
        "max_words = 10000"
      ],
      "execution_count": null,
      "outputs": []
    },
    {
      "cell_type": "code",
      "metadata": {
        "id": "hmUV7q0426QO"
      },
      "source": [
        "def tokenize_fn(max_words, texts):\n",
        "    tokenizer = Tokenizer(num_words=max_words) # Instantiate Tokenizer here.\n",
        "    # Write code to fit tokenizer on texts.\n",
        "    tokenizer.fit_on_texts(texts)\n",
        "    \n",
        "    sequences = tokenizer.texts_to_sequences(texts) # Write code to create sequences using tokenizer on texts.\n",
        "\n",
        "    return tokenizer, sequences"
      ],
      "execution_count": null,
      "outputs": []
    },
    {
      "cell_type": "code",
      "metadata": {
        "id": "uBlrxRCG0qZy"
      },
      "source": [
        "tokenizer, sequences = tokenize_fn(max_words, texts)"
      ],
      "execution_count": null,
      "outputs": []
    },
    {
      "cell_type": "code",
      "metadata": {
        "id": "GoAvs-Ku1GsY",
        "colab": {
          "base_uri": "https://localhost:8080/"
        },
        "outputId": "1a9fd7a7-ecd9-4c39-91ea-61030d3b9c81"
      },
      "source": [
        "word_index = tokenizer.word_index\n",
        "print('Found %s unique tokens.' % len(word_index))"
      ],
      "execution_count": null,
      "outputs": [
        {
          "output_type": "stream",
          "text": [
            "Found 8953 unique tokens.\n"
          ],
          "name": "stdout"
        }
      ]
    },
    {
      "cell_type": "markdown",
      "metadata": {
        "id": "jGPiWrw5GPaZ"
      },
      "source": [
        "### Pad the sequences.\n",
        "\n",
        "- Pad the **sequences** using the `pad_sequences` function having `maxlen` equal to **maxlen**."
      ]
    },
    {
      "cell_type": "code",
      "metadata": {
        "id": "FpO0PHuO1Gcx"
      },
      "source": [
        "maxlen = 100"
      ],
      "execution_count": null,
      "outputs": []
    },
    {
      "cell_type": "code",
      "metadata": {
        "id": "S5ElxkN01X1o"
      },
      "source": [
        "def padding_fn(sequences, maxlen):\n",
        "    data = pad_sequences(sequences, maxlen= 100)# Write code to pad sequences here.\n",
        "\n",
        "    return data"
      ],
      "execution_count": null,
      "outputs": []
    },
    {
      "cell_type": "code",
      "metadata": {
        "id": "6qKY78sb1eVv"
      },
      "source": [
        "data = padding_fn(sequences, maxlen)"
      ],
      "execution_count": null,
      "outputs": []
    },
    {
      "cell_type": "code",
      "metadata": {
        "id": "5nKcaZDB3Jx2",
        "colab": {
          "base_uri": "https://localhost:8080/"
        },
        "outputId": "6852d860-81e3-4edc-975e-33510c7712be"
      },
      "source": [
        "print('Shape of data tensor:', data.shape)"
      ],
      "execution_count": null,
      "outputs": [
        {
          "output_type": "stream",
          "text": [
            "Shape of data tensor: (5559, 100)\n"
          ],
          "name": "stdout"
        }
      ]
    },
    {
      "cell_type": "code",
      "metadata": {
        "id": "U0_-EOeB1YHo",
        "colab": {
          "base_uri": "https://localhost:8080/"
        },
        "outputId": "d2de52cb-3359-4438-84ce-ed17a7a02766"
      },
      "source": [
        "labels = np.asarray(labels)\n",
        "print('Shape of label tensor:', labels.shape)"
      ],
      "execution_count": null,
      "outputs": [
        {
          "output_type": "stream",
          "text": [
            "Shape of label tensor: (5559,)\n"
          ],
          "name": "stdout"
        }
      ]
    },
    {
      "cell_type": "markdown",
      "metadata": {
        "id": "r4EHYn4oGeMW"
      },
      "source": [
        "### Build a model using the Keras Functional API.\n",
        "\n",
        "- It takes in an **input** of shape **(100,)**.\n",
        "\n",
        "- This is followed by an **Embedding** layer having `input_dim` equal to **max_features**, and `output_dim` equal to **embedding_dim**.\n",
        "\n",
        "- Then comes a **LSTM** layer having **128** hidden units.\n",
        "\n",
        "- After this, the last layer is the **output** layer having appropriate hidden units and activation function for a **binary classification** problem."
      ]
    },
    {
      "cell_type": "code",
      "metadata": {
        "id": "fDVaEZqZskHA"
      },
      "source": [
        "from tensorflow.keras.models import Model\n",
        "from tensorflow.keras.layers import Embedding, Dense, LSTM"
      ],
      "execution_count": null,
      "outputs": []
    },
    {
      "cell_type": "code",
      "metadata": {
        "id": "b_OQ54meskmI"
      },
      "source": [
        "embedding_dim = 64\n",
        "max_features = len(word_index) + 1"
      ],
      "execution_count": null,
      "outputs": []
    },
    {
      "cell_type": "code",
      "metadata": {
        "id": "XnBFm9JZsiJp"
      },
      "source": [
        "def build_model(max_features, embedding_dim):\n",
        "    # Build model here.\n",
        "    input_layer = Input(shape = 100,)\n",
        "    embedding_layer = Embedding(max_features, embedding_dim)(input_layer)\n",
        "    lstm_layer = LSTM(128, activation= 'relu')(embedding_layer)\n",
        "    output_layer = Dense(1, activation= 'sigmoid')(lstm_layer)\n",
        "    model = Model(input_layer, output_layer)\n",
        "\n",
        "    return model"
      ],
      "execution_count": null,
      "outputs": []
    },
    {
      "cell_type": "code",
      "metadata": {
        "id": "CWzLxiBi6KRG",
        "colab": {
          "base_uri": "https://localhost:8080/"
        },
        "outputId": "3da508bd-5ac6-4bbe-fbce-8c0cb563113d"
      },
      "source": [
        "model = build_model(max_features, embedding_dim)"
      ],
      "execution_count": null,
      "outputs": [
        {
          "output_type": "stream",
          "text": [
            "WARNING:tensorflow:Layer lstm_1 will not use cuDNN kernel since it doesn't meet the cuDNN kernel criteria. It will use generic GPU kernel as fallback when running on GPU\n"
          ],
          "name": "stdout"
        }
      ]
    },
    {
      "cell_type": "code",
      "metadata": {
        "id": "vq-bG32z3X_x",
        "colab": {
          "base_uri": "https://localhost:8080/"
        },
        "outputId": "f4d02674-85d3-4e50-9d33-609a74057245"
      },
      "source": [
        "model.summary()"
      ],
      "execution_count": null,
      "outputs": [
        {
          "output_type": "stream",
          "text": [
            "Model: \"model_3\"\n",
            "_________________________________________________________________\n",
            "Layer (type)                 Output Shape              Param #   \n",
            "=================================================================\n",
            "input_4 (InputLayer)         [(None, 100)]             0         \n",
            "_________________________________________________________________\n",
            "embedding (Embedding)        (None, 100, 64)           573056    \n",
            "_________________________________________________________________\n",
            "lstm_1 (LSTM)                (None, 128)               98816     \n",
            "_________________________________________________________________\n",
            "dense_8 (Dense)              (None, 1)                 129       \n",
            "=================================================================\n",
            "Total params: 672,001\n",
            "Trainable params: 672,001\n",
            "Non-trainable params: 0\n",
            "_________________________________________________________________\n"
          ],
          "name": "stdout"
        }
      ]
    },
    {
      "cell_type": "markdown",
      "metadata": {
        "id": "KTgB18QLGjB0"
      },
      "source": [
        "### Compile the model.\n",
        "\n",
        "- Use **adam** `optimizer`.\n",
        "\n",
        "- Use appropriate `loss` for a **binary classification** problem.\n",
        "\n",
        "- Use **'acc'** as the `metrics`."
      ]
    },
    {
      "cell_type": "code",
      "metadata": {
        "id": "99ymjk6_3fpj"
      },
      "source": [
        "def compile_model(model):\n",
        "    # Compile model here.\n",
        "    model.compile(optimizer='adam', metrics= ['acc'], loss = 'binary_crossentropy')\n",
        "\n",
        "    return model"
      ],
      "execution_count": null,
      "outputs": []
    },
    {
      "cell_type": "code",
      "metadata": {
        "id": "1v5rlb978ijD"
      },
      "source": [
        "model = compile_model(model)"
      ],
      "execution_count": null,
      "outputs": []
    },
    {
      "cell_type": "markdown",
      "metadata": {
        "id": "AZVjb6YN8PD1"
      },
      "source": [
        "### Fit the model.\n",
        "\n",
        "- Fit the model on **data**, and **labels**.\n",
        "\n",
        "- Specify **10** `epochs` and a `batch_size` of **64**.\n",
        "\n",
        "- Specify a `validation_split` of **20%**."
      ]
    },
    {
      "cell_type": "code",
      "metadata": {
        "id": "Z5dbs0oa8rYe"
      },
      "source": [
        "def fit_model(model):\n",
        "    history = model.fit(data, labels, validation_split= 0.2, epochs=10, batch_size= 64)# Fit model here.\n",
        "\n",
        "    return model, history"
      ],
      "execution_count": null,
      "outputs": []
    },
    {
      "cell_type": "code",
      "metadata": {
        "id": "xk-42Hyy8Aii",
        "colab": {
          "base_uri": "https://localhost:8080/"
        },
        "outputId": "e58fc6cb-46be-470a-ca4b-efad4d20dfe3"
      },
      "source": [
        "model, history = fit_model(model)"
      ],
      "execution_count": null,
      "outputs": [
        {
          "output_type": "stream",
          "text": [
            "Epoch 1/10\n",
            "70/70 [==============================] - 19s 225ms/step - loss: 0.5878 - acc: 0.8740 - val_loss: 0.5492 - val_acc: 0.8651\n",
            "Epoch 2/10\n",
            "70/70 [==============================] - 16s 223ms/step - loss: 46541473.8435 - acc: 0.8587 - val_loss: 5.5770 - val_acc: 0.9074\n",
            "Epoch 3/10\n",
            "70/70 [==============================] - 15s 218ms/step - loss: 0.4607 - acc: 0.9276 - val_loss: 1.3123 - val_acc: 0.9496\n",
            "Epoch 4/10\n",
            "70/70 [==============================] - 15s 216ms/step - loss: 231756490113485.6250 - acc: 0.9544 - val_loss: 21653676032.0000 - val_acc: 0.1349\n",
            "Epoch 5/10\n",
            "70/70 [==============================] - 15s 221ms/step - loss: 26773305733.5370 - acc: 0.1347 - val_loss: 9781779456.0000 - val_acc: 0.1349\n",
            "Epoch 6/10\n",
            "70/70 [==============================] - 15s 217ms/step - loss: 1625949991.6419 - acc: 0.4027 - val_loss: 416976.0312 - val_acc: 0.9056\n",
            "Epoch 7/10\n",
            "70/70 [==============================] - 15s 218ms/step - loss: 4627.3937 - acc: 0.9637 - val_loss: 0.5973 - val_acc: 0.9460\n",
            "Epoch 8/10\n",
            "70/70 [==============================] - 15s 219ms/step - loss: 0.9056 - acc: 0.9859 - val_loss: 0.2672 - val_acc: 0.9730\n",
            "Epoch 9/10\n",
            "70/70 [==============================] - 15s 219ms/step - loss: 0.4487 - acc: 0.9949 - val_loss: 0.4856 - val_acc: 0.9532\n",
            "Epoch 10/10\n",
            "70/70 [==============================] - 15s 210ms/step - loss: 0.2625 - acc: 0.9923 - val_loss: 0.4712 - val_acc: 0.9568\n"
          ],
          "name": "stdout"
        }
      ]
    },
    {
      "cell_type": "markdown",
      "metadata": {
        "id": "e6Qq0mMwGq8U"
      },
      "source": [
        "### Question 11: Plot Training and Validation Accuracy and Loss.\n",
        "\n",
        "- Use `plot_graphs` function to plot training and validation accuracy and loss plots.\n",
        "\n",
        "- For **accuracy** plots, specify:\n",
        "\n",
        "  - `epochs`: epochs\n",
        "\n",
        "  - `training_metric`: acc\n",
        "  \n",
        "  - `validation_metric`: val_acc\n",
        "  \n",
        "  - `label_title_metric`: 'Accuracy'\n",
        "\n",
        "- For **loss** plots, specify:\n",
        "\n",
        "  - `epochs`: epochs\n",
        "\n",
        "  - `training_metric`: loss\n",
        "  \n",
        "  - `validation_metric`: val_loss\n",
        "  \n",
        "  - `label_title_metric`: 'Loss'"
      ]
    },
    {
      "cell_type": "code",
      "metadata": {
        "id": "qyULDred9aq_"
      },
      "source": [
        "import matplotlib.pyplot as plt"
      ],
      "execution_count": null,
      "outputs": []
    },
    {
      "cell_type": "code",
      "metadata": {
        "id": "1praKtb99p5u"
      },
      "source": [
        "acc = history.history['acc']\n",
        "val_acc = history.history['val_acc']\n",
        "loss = history.history['loss']\n",
        "val_loss = history.history['val_loss']\n",
        "epochs = range(1, len(acc) + 1)"
      ],
      "execution_count": null,
      "outputs": []
    },
    {
      "cell_type": "code",
      "metadata": {
        "id": "yIVz8_o24K23"
      },
      "source": [
        "def plot_graphs(epochs, training_metric, validation_metric, label_title_metric):\n",
        "    plt.plot(epochs, training_metric, 'r', label='Training {}'.format(label_title_metric))\n",
        "    plt.plot(epochs, validation_metric, 'b', label='Validation {}'.format(label_title_metric))\n",
        "    plt.title('Training and Validation {}'.format(label_title_metric))\n",
        "    plt.legend()"
      ],
      "execution_count": null,
      "outputs": []
    },
    {
      "cell_type": "code",
      "metadata": {
        "id": "oCUmJRaL9dUA"
      },
      "source": [
        "def training_validation_plots():\n",
        "    # Accuray plot\n",
        "    # Write code to plot the accuracy plots.\n",
        "    plot_graphs(epochs, acc, val_acc, 'Accuracy')\n",
        "    \n",
        "    plt.figure()\n",
        "\n",
        "    # Loss plot\n",
        "    # Write code to plot the loss plots.\n",
        "    plot_graphs(epochs, loss, val_loss, 'Loss')"
      ],
      "execution_count": null,
      "outputs": []
    },
    {
      "cell_type": "code",
      "metadata": {
        "id": "kQ5AXcbz-5iJ",
        "colab": {
          "base_uri": "https://localhost:8080/",
          "height": 544
        },
        "outputId": "c6b67bc6-5da4-4f2d-d7bb-cfc516c3bcf7"
      },
      "source": [
        "training_validation_plots()"
      ],
      "execution_count": null,
      "outputs": [
        {
          "output_type": "display_data",
          "data": {
            "image/png": "[encoded data removed]",
            "text/plain": [
              "<Figure size 432x288 with 1 Axes>"
            ]
          },
          "metadata": {
            "tags": [],
            "needs_background": "light"
          }
        },
        {
          "output_type": "display_data",
          "data": {
            "image/png": "[encoded data removed]",
            "text/plain": [
              "<Figure size 432x288 with 1 Axes>"
            ]
          },
          "metadata": {
            "tags": [],
            "needs_background": "light"
          }
        }
      ]
    },
    {
      "cell_type": "code",
      "metadata": {
        "id": "YOiGkCVgAhYV"
      },
      "source": [
        ""
      ],
      "execution_count": null,
      "outputs": []
    }
  ]
}